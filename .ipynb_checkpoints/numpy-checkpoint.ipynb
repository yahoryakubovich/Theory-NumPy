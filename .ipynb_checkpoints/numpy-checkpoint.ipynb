{
 "cells": [
  {
   "cell_type": "markdown",
   "id": "8430519f-2422-4d4a-a18a-6b7e5b79715d",
   "metadata": {},
   "source": [
    "## Выполнение импорта"
   ]
  },
  {
   "cell_type": "code",
   "execution_count": 18,
   "id": "0db514ec-1dbc-4cb4-af1f-167f0f977840",
   "metadata": {},
   "outputs": [],
   "source": [
    "import numpy as np"
   ]
  },
  {
   "cell_type": "markdown",
   "id": "15dcc4b7-c492-455a-b2c1-7ff9c6ec6b9d",
   "metadata": {},
   "source": [
    "## Создание массива"
   ]
  },
  {
   "cell_type": "code",
   "execution_count": 19,
   "id": "59cf6e33-9ee6-4399-b4e1-6ee45250cd45",
   "metadata": {},
   "outputs": [
    {
     "data": {
      "text/plain": [
       "array([1, 2, 3, 4, 5, 6, 7, 8, 9])"
      ]
     },
     "execution_count": 19,
     "metadata": {},
     "output_type": "execute_result"
    }
   ],
   "source": [
    "a = np.array([1,2,3,4,5,6,7,8,9])\n",
    "a"
   ]
  },
  {
   "cell_type": "code",
   "execution_count": 20,
   "id": "ad69141b-340f-437d-bdd3-01bd00fcbbaf",
   "metadata": {},
   "outputs": [
    {
     "data": {
      "text/plain": [
       "dtype('int64')"
      ]
     },
     "execution_count": 20,
     "metadata": {},
     "output_type": "execute_result"
    }
   ],
   "source": [
    "a.dtype"
   ]
  },
  {
   "cell_type": "markdown",
   "id": "5ff2d6c0-13f0-43dc-b246-16bec7c233b7",
   "metadata": {},
   "source": [
    "## Индексация и чтение"
   ]
  },
  {
   "cell_type": "code",
   "execution_count": 21,
   "id": "bafae909-61e7-4218-9f09-635c5b302cbf",
   "metadata": {},
   "outputs": [
    {
     "data": {
      "text/plain": [
       "(1, 2)"
      ]
     },
     "execution_count": 21,
     "metadata": {},
     "output_type": "execute_result"
    }
   ],
   "source": [
    "a[0], a[1]"
   ]
  },
  {
   "cell_type": "markdown",
   "id": "3e816107-b659-4c75-941f-a2696d4698b4",
   "metadata": {},
   "source": [
    "## Изменение какого-либо значения элемента массива"
   ]
  },
  {
   "cell_type": "code",
   "execution_count": 17,
   "id": "27edbf47-3b6c-481a-93b9-e9c918e4cc26",
   "metadata": {},
   "outputs": [
    {
     "data": {
      "text/plain": [
       "array([10, 12,  3,  4,  5,  6,  7,  8,  9])"
      ]
     },
     "execution_count": 17,
     "metadata": {},
     "output_type": "execute_result"
    }
   ],
   "source": [
    "a[0] = 10\n",
    "a[1] = 12\n",
    "a"
   ]
  },
  {
   "cell_type": "markdown",
   "id": "52ccf455-f708-441d-a8b8-bb0f0c9c869c",
   "metadata": {},
   "source": [
    "## Формирование массива с помощью индексов"
   ]
  },
  {
   "cell_type": "code",
   "execution_count": 22,
   "id": "378e93d0-fc9d-419e-84e9-b25c62663be1",
   "metadata": {},
   "outputs": [
    {
     "data": {
      "text/plain": [
       "array([2, 2, 2, 2, 2, 2, 2, 2, 2])"
      ]
     },
     "execution_count": 22,
     "metadata": {},
     "output_type": "execute_result"
    }
   ],
   "source": [
    "a [ [1,1,1,1,1,1,1,1,1] ]"
   ]
  },
  {
   "cell_type": "markdown",
   "id": "45b81783-43bd-4d36-ae5c-18dc36b5b06a",
   "metadata": {},
   "source": [
    "## Булевая конструкция (True возвращаются)"
   ]
  },
  {
   "cell_type": "code",
   "execution_count": 23,
   "id": "be326dec-a3d9-4a99-87bd-14a2ac120b64",
   "metadata": {},
   "outputs": [
    {
     "data": {
      "text/plain": [
       "array([1, 2, 7, 8, 9])"
      ]
     },
     "execution_count": 23,
     "metadata": {},
     "output_type": "execute_result"
    }
   ],
   "source": [
    "a [ [True, True, False,False, False, False, True, True, True] ]"
   ]
  },
  {
   "cell_type": "markdown",
   "id": "516d0a7a-3f10-4d1a-9a9d-93573f0daf43",
   "metadata": {},
   "source": [
    "## Создание представления матрицы одномерного массива"
   ]
  },
  {
   "cell_type": "code",
   "execution_count": 24,
   "id": "b052d638-ad47-4048-aee4-eb63bfc5ac12",
   "metadata": {},
   "outputs": [
    {
     "data": {
      "text/plain": [
       "array([[1, 2, 3],\n",
       "       [4, 5, 6],\n",
       "       [7, 8, 9]])"
      ]
     },
     "execution_count": 24,
     "metadata": {},
     "output_type": "execute_result"
    }
   ],
   "source": [
    "b = a.reshape(3,3)\n",
    "b"
   ]
  },
  {
   "cell_type": "markdown",
   "id": "d1c7f5b2-c635-4a36-84ff-5ac45fac001d",
   "metadata": {},
   "source": [
    "## Способы формирования массивов "
   ]
  },
  {
   "cell_type": "code",
   "execution_count": 25,
   "id": "48c12f08-d845-49e6-8aa4-bb99a3d37ee7",
   "metadata": {},
   "outputs": [
    {
     "data": {
      "text/plain": [
       "array([1., 2., 3., 4.])"
      ]
     },
     "execution_count": 25,
     "metadata": {},
     "output_type": "execute_result"
    }
   ],
   "source": [
    "a = np.array([1,2,3,4], 'float64')\n",
    "a"
   ]
  },
  {
   "cell_type": "markdown",
   "id": "2e428b05-8b88-41d9-9e5c-0d5f84a2dbef",
   "metadata": {},
   "source": [
    "## Просмотр типов данных"
   ]
  },
  {
   "cell_type": "code",
   "execution_count": 27,
   "id": "2f915cc0-9e1c-4d61-9ca0-5863faf292f5",
   "metadata": {},
   "outputs": [
    {
     "data": {
      "text/plain": [
       "{'?': numpy.bool_,\n",
       " 0: numpy.bool_,\n",
       " 'byte': numpy.int8,\n",
       " 'b': numpy.int8,\n",
       " 1: numpy.int8,\n",
       " 'ubyte': numpy.uint8,\n",
       " 'B': numpy.uint8,\n",
       " 2: numpy.uint8,\n",
       " 'short': numpy.int16,\n",
       " 'h': numpy.int16,\n",
       " 3: numpy.int16,\n",
       " 'ushort': numpy.uint16,\n",
       " 'H': numpy.uint16,\n",
       " 4: numpy.uint16,\n",
       " 'i': numpy.int32,\n",
       " 5: numpy.int32,\n",
       " 'uint': numpy.uint64,\n",
       " 'I': numpy.uint32,\n",
       " 6: numpy.uint32,\n",
       " 'intp': numpy.int64,\n",
       " 'p': numpy.int64,\n",
       " 7: numpy.int64,\n",
       " 'uintp': numpy.uint64,\n",
       " 'P': numpy.uint64,\n",
       " 8: numpy.uint64,\n",
       " 'long': numpy.int64,\n",
       " 'l': numpy.int64,\n",
       " 'ulong': numpy.uint64,\n",
       " 'L': numpy.uint64,\n",
       " 'longlong': numpy.longlong,\n",
       " 'q': numpy.longlong,\n",
       " 9: numpy.longlong,\n",
       " 'ulonglong': numpy.ulonglong,\n",
       " 'Q': numpy.ulonglong,\n",
       " 10: numpy.ulonglong,\n",
       " 'half': numpy.float16,\n",
       " 'e': numpy.float16,\n",
       " 23: numpy.float16,\n",
       " 'f': numpy.float32,\n",
       " 11: numpy.float32,\n",
       " 'double': numpy.float64,\n",
       " 'd': numpy.float64,\n",
       " 12: numpy.float64,\n",
       " 'longdouble': numpy.longdouble,\n",
       " 'g': numpy.longdouble,\n",
       " 13: numpy.longdouble,\n",
       " 'cfloat': numpy.complex128,\n",
       " 'F': numpy.complex64,\n",
       " 14: numpy.complex64,\n",
       " 'cdouble': numpy.complex128,\n",
       " 'D': numpy.complex128,\n",
       " 15: numpy.complex128,\n",
       " 'clongdouble': numpy.clongdouble,\n",
       " 'G': numpy.clongdouble,\n",
       " 16: numpy.clongdouble,\n",
       " 'O': numpy.object_,\n",
       " 17: numpy.object_,\n",
       " 'S': numpy.bytes_,\n",
       " 18: numpy.bytes_,\n",
       " 'unicode': numpy.str_,\n",
       " 'U': numpy.str_,\n",
       " 19: numpy.str_,\n",
       " 'void': numpy.void,\n",
       " 'V': numpy.void,\n",
       " 20: numpy.void,\n",
       " 'M': numpy.datetime64,\n",
       " 21: numpy.datetime64,\n",
       " 'm': numpy.timedelta64,\n",
       " 22: numpy.timedelta64,\n",
       " 'b1': numpy.bool_,\n",
       " 'bool8': numpy.bool_,\n",
       " 'i8': numpy.int64,\n",
       " 'int64': numpy.int64,\n",
       " 'u8': numpy.uint64,\n",
       " 'uint64': numpy.uint64,\n",
       " 'f2': numpy.float16,\n",
       " 'float16': numpy.float16,\n",
       " 'f4': numpy.float32,\n",
       " 'float32': numpy.float32,\n",
       " 'f8': numpy.float64,\n",
       " 'float64': numpy.float64,\n",
       " 'f16': numpy.longdouble,\n",
       " 'float128': numpy.longdouble,\n",
       " 'c8': numpy.complex64,\n",
       " 'complex64': numpy.complex64,\n",
       " 'c16': numpy.complex128,\n",
       " 'complex128': numpy.complex128,\n",
       " 'c32': numpy.clongdouble,\n",
       " 'complex256': numpy.clongdouble,\n",
       " 'object0': numpy.object_,\n",
       " 'bytes0': numpy.bytes_,\n",
       " 'str0': numpy.str_,\n",
       " 'void0': numpy.void,\n",
       " 'M8': numpy.datetime64,\n",
       " 'datetime64': numpy.datetime64,\n",
       " 'm8': numpy.timedelta64,\n",
       " 'timedelta64': numpy.timedelta64,\n",
       " 'int32': numpy.int32,\n",
       " 'i4': numpy.int32,\n",
       " 'uint32': numpy.uint32,\n",
       " 'u4': numpy.uint32,\n",
       " 'int16': numpy.int16,\n",
       " 'i2': numpy.int16,\n",
       " 'uint16': numpy.uint16,\n",
       " 'u2': numpy.uint16,\n",
       " 'int8': numpy.int8,\n",
       " 'i1': numpy.int8,\n",
       " 'uint8': numpy.uint8,\n",
       " 'u1': numpy.uint8,\n",
       " 'complex_': numpy.complex128,\n",
       " 'single': numpy.float32,\n",
       " 'csingle': numpy.complex64,\n",
       " 'singlecomplex': numpy.complex64,\n",
       " 'float_': numpy.float64,\n",
       " 'intc': numpy.int32,\n",
       " 'uintc': numpy.uint32,\n",
       " 'int_': numpy.int64,\n",
       " 'longfloat': numpy.longdouble,\n",
       " 'clongfloat': numpy.clongdouble,\n",
       " 'longcomplex': numpy.clongdouble,\n",
       " 'bool_': numpy.bool_,\n",
       " 'bytes_': numpy.bytes_,\n",
       " 'string_': numpy.bytes_,\n",
       " 'str_': numpy.str_,\n",
       " 'unicode_': numpy.str_,\n",
       " 'object_': numpy.object_,\n",
       " 'int': numpy.int64,\n",
       " 'float': numpy.float64,\n",
       " 'complex': numpy.complex128,\n",
       " 'bool': numpy.bool_,\n",
       " 'object': numpy.object_,\n",
       " 'str': numpy.str_,\n",
       " 'bytes': numpy.bytes_,\n",
       " 'a': numpy.bytes_,\n",
       " 'int0': numpy.int64,\n",
       " 'uint0': numpy.uint64}"
      ]
     },
     "execution_count": 27,
     "metadata": {},
     "output_type": "execute_result"
    }
   ],
   "source": [
    "np.sctypeDict"
   ]
  },
  {
   "cell_type": "markdown",
   "id": "39e6828b-ea39-4192-91a0-7e207ec9565f",
   "metadata": {},
   "source": [
    "## Преобразования типов (Следует соблюдать осторожность, т.к это может привести к потере данных и их некорректному представлению)"
   ]
  },
  {
   "cell_type": "code",
   "execution_count": 30,
   "id": "692354e0-ad3b-437b-9bb8-e2b36de4d4e5",
   "metadata": {},
   "outputs": [
    {
     "data": {
      "text/plain": [
       "(10+0j)"
      ]
     },
     "execution_count": 30,
     "metadata": {},
     "output_type": "execute_result"
    }
   ],
   "source": [
    "np.complex64(10)"
   ]
  },
  {
   "cell_type": "code",
   "execution_count": 31,
   "id": "fa35639e-49f2-4f26-8749-7497eb106051",
   "metadata": {},
   "outputs": [
    {
     "data": {
      "text/plain": [
       "10"
      ]
     },
     "execution_count": 31,
     "metadata": {},
     "output_type": "execute_result"
    }
   ],
   "source": [
    "np.int16(10)"
   ]
  },
  {
   "cell_type": "markdown",
   "id": "3466139e-8676-46be-8cb3-ff1c1cd7b200",
   "metadata": {},
   "source": [
    "## Искажение значений"
   ]
  },
  {
   "cell_type": "code",
   "execution_count": 34,
   "id": "95147e25-7544-45bf-9ca8-771a8f72e51b",
   "metadata": {},
   "outputs": [
    {
     "name": "stderr",
     "output_type": "stream",
     "text": [
      "/tmp/ipykernel_77375/1795745168.py:1: DeprecationWarning: NumPy will stop allowing conversion of out-of-bound Python integers to integer arrays.  The conversion of 5000 to int8 will fail in the future.\n",
      "For the old behavior, usually:\n",
      "    np.array(value).astype(dtype)\n",
      "will give the desired result (the cast overflows).\n",
      "  a = np.array([1,2, 5000,1000], dtype='int8')\n",
      "/tmp/ipykernel_77375/1795745168.py:1: DeprecationWarning: NumPy will stop allowing conversion of out-of-bound Python integers to integer arrays.  The conversion of 1000 to int8 will fail in the future.\n",
      "For the old behavior, usually:\n",
      "    np.array(value).astype(dtype)\n",
      "will give the desired result (the cast overflows).\n",
      "  a = np.array([1,2, 5000,1000], dtype='int8')\n"
     ]
    },
    {
     "data": {
      "text/plain": [
       "array([   1,    2, -120,  -24], dtype=int8)"
      ]
     },
     "execution_count": 34,
     "metadata": {},
     "output_type": "execute_result"
    }
   ],
   "source": [
    "a = np.array([1,2, 5000,1000], dtype='int8')\n",
    "a"
   ]
  },
  {
   "cell_type": "markdown",
   "id": "95d8365b-f4ea-4821-ac43-078a37e26f03",
   "metadata": {},
   "source": [
    "## Создание матрицы 3х2 (3 строки и 2 стобца)"
   ]
  },
  {
   "cell_type": "code",
   "execution_count": 39,
   "id": "6c9469ea-9824-40c0-b2ad-6da8475e6aa1",
   "metadata": {},
   "outputs": [
    {
     "data": {
      "text/plain": [
       "array([[1, 2],\n",
       "       [3, 4],\n",
       "       [5, 6]])"
      ]
     },
     "execution_count": 39,
     "metadata": {},
     "output_type": "execute_result"
    }
   ],
   "source": [
    "a = np.array([[1,2],[3,4],[5,6]])\n",
    "a"
   ]
  },
  {
   "cell_type": "markdown",
   "id": "8bb49788-5f2c-44a8-8499-a85186045065",
   "metadata": {},
   "source": [
    "## Создание трехмерной матрицы"
   ]
  },
  {
   "cell_type": "code",
   "execution_count": 43,
   "id": "405b1e80-685c-4e96-ab2d-55fc31b84f60",
   "metadata": {},
   "outputs": [
    {
     "data": {
      "text/plain": [
       "array([[[ 1,  2],\n",
       "        [ 3,  4]],\n",
       "\n",
       "       [[ 5,  6],\n",
       "        [ 7,  8]],\n",
       "\n",
       "       [[ 9, 10],\n",
       "        [11, 12]]])"
      ]
     },
     "execution_count": 43,
     "metadata": {},
     "output_type": "execute_result"
    }
   ],
   "source": [
    "a = np.array([[[1,2],[3,4]],[[5,6],[7,8]],[[9,10],[11,12]]])\n",
    "a"
   ]
  },
  {
   "cell_type": "code",
   "execution_count": 44,
   "id": "c4774cff-fbeb-48bd-b523-6ce564a877e8",
   "metadata": {},
   "outputs": [
    {
     "data": {
      "text/plain": [
       "12"
      ]
     },
     "execution_count": 44,
     "metadata": {},
     "output_type": "execute_result"
    }
   ],
   "source": [
    "a[2, 1, 1]"
   ]
  },
  {
   "cell_type": "markdown",
   "id": "55790144-6e4b-46f0-800a-6eddd2277975",
   "metadata": {},
   "source": [
    "## Создание матрицы из десяти нулей"
   ]
  },
  {
   "cell_type": "code",
   "execution_count": 66,
   "id": "dde51c7f-272d-48f5-a556-9a832d0a71b9",
   "metadata": {},
   "outputs": [
    {
     "data": {
      "text/plain": [
       "array([[0, 0, 0, 0, 0, 0, 0, 0, 0, 0]])"
      ]
     },
     "execution_count": 66,
     "metadata": {},
     "output_type": "execute_result"
    }
   ],
   "source": [
    "a = np.array([[0]*10])\n",
    "a"
   ]
  },
  {
   "cell_type": "markdown",
   "id": "0991333c-8330-4895-be13-e45cbf490e7e",
   "metadata": {},
   "source": [
    "## Создание массива при помощи empty()"
   ]
  },
  {
   "cell_type": "code",
   "execution_count": 67,
   "id": "1997aeee-c0df-49c2-a1e0-61b93bca6219",
   "metadata": {},
   "outputs": [
    {
     "data": {
      "text/plain": [
       "array([[[4.91894106e-310, 0.00000000e+000, 6.75867100e-310],\n",
       "        [6.75867100e-310, 6.75867100e-310, 6.75867100e-310],\n",
       "        [6.75867228e-310, 6.75867233e-310, 6.75867229e-310]],\n",
       "\n",
       "       [[6.75867228e-310, 6.75867228e-310, 6.75867100e-310],\n",
       "        [6.75867145e-310, 6.75867100e-310, 6.75867100e-310],\n",
       "        [6.75867100e-310, 6.75867100e-310, 6.75867100e-310]],\n",
       "\n",
       "       [[6.75867100e-310, 6.75867100e-310, 6.75867100e-310],\n",
       "        [6.75867100e-310, 6.75867230e-310, 6.75867229e-310],\n",
       "        [6.75867100e-310, 6.75867231e-310, 1.10670705e-321]]])"
      ]
     },
     "execution_count": 67,
     "metadata": {},
     "output_type": "execute_result"
    }
   ],
   "source": [
    "a = np.empty((3,3,3))\n",
    "a"
   ]
  },
  {
   "cell_type": "markdown",
   "id": "ac1e94bc-8eaa-49a4-8117-a0687a08f58b",
   "metadata": {},
   "source": [
    "## Создание массива при помощи eye()"
   ]
  },
  {
   "cell_type": "code",
   "execution_count": 68,
   "id": "c8fa9fa5-9496-48a3-a5eb-aa55c9006c1b",
   "metadata": {},
   "outputs": [
    {
     "data": {
      "text/plain": [
       "array([[1., 0., 0., 0.],\n",
       "       [0., 1., 0., 0.],\n",
       "       [0., 0., 1., 0.],\n",
       "       [0., 0., 0., 1.]])"
      ]
     },
     "execution_count": 68,
     "metadata": {},
     "output_type": "execute_result"
    }
   ],
   "source": [
    "a = np.eye(4)\n",
    "a"
   ]
  },
  {
   "cell_type": "code",
   "execution_count": 69,
   "id": "9087a7d5-65f1-4048-a54d-54ec32192d7e",
   "metadata": {},
   "outputs": [
    {
     "data": {
      "text/plain": [
       "array([[1., 0.],\n",
       "       [0., 1.],\n",
       "       [0., 0.],\n",
       "       [0., 0.]])"
      ]
     },
     "execution_count": 69,
     "metadata": {},
     "output_type": "execute_result"
    }
   ],
   "source": [
    "a = np.eye(4,2)\n",
    "a"
   ]
  },
  {
   "cell_type": "markdown",
   "id": "b8647879-50fd-4a97-82d8-3bcc9315acb8",
   "metadata": {},
   "source": [
    "## Создание массива при помощи identity() (квадратная матрица)"
   ]
  },
  {
   "cell_type": "code",
   "execution_count": 70,
   "id": "0425a904-510f-45c9-8b3d-959d546450c8",
   "metadata": {},
   "outputs": [
    {
     "data": {
      "text/plain": [
       "array([[1., 0., 0., 0., 0.],\n",
       "       [0., 1., 0., 0., 0.],\n",
       "       [0., 0., 1., 0., 0.],\n",
       "       [0., 0., 0., 1., 0.],\n",
       "       [0., 0., 0., 0., 1.]])"
      ]
     },
     "execution_count": 70,
     "metadata": {},
     "output_type": "execute_result"
    }
   ],
   "source": [
    "a = np.identity(5)\n",
    "a"
   ]
  },
  {
   "cell_type": "markdown",
   "id": "86e8c392-1fa4-4b5f-9ca3-8f6fca47dd7c",
   "metadata": {},
   "source": [
    "## Создание массива состоящего из одних нулей с помощью zeros()"
   ]
  },
  {
   "cell_type": "code",
   "execution_count": 71,
   "id": "789632f1-2f4c-4eff-9364-10d9ba43579a",
   "metadata": {},
   "outputs": [
    {
     "data": {
      "text/plain": [
       "array([[0., 0., 0., 0., 0.],\n",
       "       [0., 0., 0., 0., 0.],\n",
       "       [0., 0., 0., 0., 0.],\n",
       "       [0., 0., 0., 0., 0.],\n",
       "       [0., 0., 0., 0., 0.]])"
      ]
     },
     "execution_count": 71,
     "metadata": {},
     "output_type": "execute_result"
    }
   ],
   "source": [
    "a = np.zeros((5,5))\n",
    "a"
   ]
  },
  {
   "cell_type": "markdown",
   "id": "573daf9e-8832-4057-b263-ff555c7b038a",
   "metadata": {},
   "source": [
    "## Создание массива состоящего из одних единиц с помощью ones()"
   ]
  },
  {
   "cell_type": "code",
   "execution_count": 72,
   "id": "4c9fd4a7-b3a1-45a8-a3dc-a7b74b005c07",
   "metadata": {},
   "outputs": [
    {
     "data": {
      "text/plain": [
       "array([[1., 1., 1., 1., 1.],\n",
       "       [1., 1., 1., 1., 1.],\n",
       "       [1., 1., 1., 1., 1.],\n",
       "       [1., 1., 1., 1., 1.],\n",
       "       [1., 1., 1., 1., 1.]])"
      ]
     },
     "execution_count": 72,
     "metadata": {},
     "output_type": "execute_result"
    }
   ],
   "source": [
    "a = np.ones((5,5))\n",
    "a"
   ]
  },
  {
   "cell_type": "markdown",
   "id": "d8853cfe-74f7-4e3e-a2a0-251665d5e0cd",
   "metadata": {},
   "source": [
    "## Создание произвольного массива  с помощью full()"
   ]
  },
  {
   "cell_type": "code",
   "execution_count": 75,
   "id": "164acb0c-4097-4ef3-a3dc-c72094873ad9",
   "metadata": {},
   "outputs": [
    {
     "data": {
      "text/plain": [
       "array([[[-1, -1, -1, -1],\n",
       "        [-1, -1, -1, -1],\n",
       "        [-1, -1, -1, -1]],\n",
       "\n",
       "       [[-1, -1, -1, -1],\n",
       "        [-1, -1, -1, -1],\n",
       "        [-1, -1, -1, -1]]])"
      ]
     },
     "execution_count": 75,
     "metadata": {},
     "output_type": "execute_result"
    }
   ],
   "source": [
    "a = np.full((2,3,4),-1)\n",
    "a"
   ]
  },
  {
   "cell_type": "markdown",
   "id": "2cc37257-f06d-443a-8472-03ca7ef6c6ef",
   "metadata": {},
   "source": [
    "## Создание матрицы из строки с помощью mat()"
   ]
  },
  {
   "cell_type": "code",
   "execution_count": 78,
   "id": "22ca1d5b-b6b6-412f-8f64-301bb66902d1",
   "metadata": {},
   "outputs": [
    {
     "data": {
      "text/plain": [
       "matrix([[1, 2, 3, 4]])"
      ]
     },
     "execution_count": 78,
     "metadata": {},
     "output_type": "execute_result"
    }
   ],
   "source": [
    "a = np.mat('1 2 3 4')\n",
    "a"
   ]
  },
  {
   "cell_type": "markdown",
   "id": "eb82d4ca-8dc9-4887-8647-c0058a7f379c",
   "metadata": {},
   "source": [
    "## Создание диагонали матрицы с элементами, которые будут идти по главной диагонали с помощью diag()"
   ]
  },
  {
   "cell_type": "code",
   "execution_count": 80,
   "id": "3db631f9-2858-4df4-9a02-f1c638db8b53",
   "metadata": {},
   "outputs": [
    {
     "data": {
      "text/plain": [
       "array([[1, 0, 0],\n",
       "       [0, 2, 0],\n",
       "       [0, 0, 3]])"
      ]
     },
     "execution_count": 80,
     "metadata": {},
     "output_type": "execute_result"
    }
   ],
   "source": [
    "a = np.diag([1,2,3])\n",
    "a"
   ]
  },
  {
   "cell_type": "markdown",
   "id": "7ca057e4-697c-493e-8129-2dd847b40410",
   "metadata": {},
   "source": [
    "## Выделение элементов которые будут стоять по главной диагонали"
   ]
  },
  {
   "cell_type": "code",
   "execution_count": 83,
   "id": "b01606c7-d83d-4d94-97f6-a1c8fcc79e80",
   "metadata": {},
   "outputs": [
    {
     "data": {
      "text/plain": [
       "array([1, 5, 9])"
      ]
     },
     "execution_count": 83,
     "metadata": {},
     "output_type": "execute_result"
    }
   ],
   "source": [
    "a = np.diag([(1,2,3), (4,5,6), (7,8,9)])\n",
    "a"
   ]
  },
  {
   "cell_type": "markdown",
   "id": "cba77013-53f7-4549-b64d-9153c3c36b34",
   "metadata": {},
   "source": [
    "## Создание диагональной матрицы из многомерных данных"
   ]
  },
  {
   "cell_type": "code",
   "execution_count": 84,
   "id": "193d096c-56d9-430c-b95c-581bb8fdf55b",
   "metadata": {},
   "outputs": [
    {
     "data": {
      "text/plain": [
       "array([[1, 0, 0, 0, 0, 0, 0, 0, 0],\n",
       "       [0, 2, 0, 0, 0, 0, 0, 0, 0],\n",
       "       [0, 0, 3, 0, 0, 0, 0, 0, 0],\n",
       "       [0, 0, 0, 4, 0, 0, 0, 0, 0],\n",
       "       [0, 0, 0, 0, 5, 0, 0, 0, 0],\n",
       "       [0, 0, 0, 0, 0, 6, 0, 0, 0],\n",
       "       [0, 0, 0, 0, 0, 0, 7, 0, 0],\n",
       "       [0, 0, 0, 0, 0, 0, 0, 8, 0],\n",
       "       [0, 0, 0, 0, 0, 0, 0, 0, 9]])"
      ]
     },
     "execution_count": 84,
     "metadata": {},
     "output_type": "execute_result"
    }
   ],
   "source": [
    "a = np.diagflat([(1,2,3), (4,5,6), (7,8,9)])\n",
    "a"
   ]
  },
  {
   "cell_type": "markdown",
   "id": "f3b3013b-e7ad-4b20-be68-66d6f975287b",
   "metadata": {},
   "source": [
    "## Создание треугольной матрицы с помощью tri()"
   ]
  },
  {
   "cell_type": "code",
   "execution_count": 86,
   "id": "41203687-1f59-4e88-b3d0-6920a51e37ac",
   "metadata": {},
   "outputs": [
    {
     "data": {
      "text/plain": [
       "array([[1., 0., 0., 0.],\n",
       "       [1., 1., 0., 0.],\n",
       "       [1., 1., 1., 0.],\n",
       "       [1., 1., 1., 1.]])"
      ]
     },
     "execution_count": 86,
     "metadata": {},
     "output_type": "execute_result"
    }
   ],
   "source": [
    "a = np.tri(4)\n",
    "a"
   ]
  },
  {
   "cell_type": "code",
   "execution_count": 87,
   "id": "07b1c474-e0b9-47ac-9bc4-d091060c89ad",
   "metadata": {},
   "outputs": [
    {
     "data": {
      "text/plain": [
       "array([[1., 0.],\n",
       "       [1., 1.],\n",
       "       [1., 1.],\n",
       "       [1., 1.]])"
      ]
     },
     "execution_count": 87,
     "metadata": {},
     "output_type": "execute_result"
    }
   ],
   "source": [
    "a = np.tri(4,2)\n",
    "a"
   ]
  },
  {
   "cell_type": "markdown",
   "id": "d147f4fc-17d6-4001-bd8c-928e20e37707",
   "metadata": {},
   "source": [
    "## Приведение существующих двумерных массивов к треугольному виду"
   ]
  },
  {
   "cell_type": "code",
   "execution_count": 91,
   "id": "e8fb60a5-70dc-4aa0-9e56-b1419aedce49",
   "metadata": {},
   "outputs": [
    {
     "data": {
      "text/plain": [
       "array([[1, 0, 0],\n",
       "       [4, 5, 0],\n",
       "       [7, 8, 9]])"
      ]
     },
     "execution_count": 91,
     "metadata": {},
     "output_type": "execute_result"
    }
   ],
   "source": [
    "a = np.array([(1,2,3),(4,5,6), (7,8,9)])\n",
    "a\n",
    "np.tril(a)"
   ]
  },
  {
   "cell_type": "markdown",
   "id": "c6656c35-3eb6-4a99-a7ae-710e02c646e3",
   "metadata": {},
   "source": [
    "## Формирование матрицы Вандермонта"
   ]
  },
  {
   "cell_type": "code",
   "execution_count": 92,
   "id": "aca10f87-2751-4c7c-8d03-ad778b1e86b2",
   "metadata": {},
   "outputs": [
    {
     "data": {
      "text/plain": [
       "array([[1, 1, 1],\n",
       "       [4, 2, 1],\n",
       "       [9, 3, 1]])"
      ]
     },
     "execution_count": 92,
     "metadata": {},
     "output_type": "execute_result"
    }
   ],
   "source": [
    "np.vander([1,2,3])"
   ]
  },
  {
   "cell_type": "markdown",
   "id": "df9d4a4c-fc1b-4c9b-9506-f8fee00f9144",
   "metadata": {},
   "source": [
    "## Функция arange()"
   ]
  },
  {
   "cell_type": "code",
   "execution_count": 93,
   "id": "15b273c4-132c-4e9f-86aa-3d3aad1ded26",
   "metadata": {},
   "outputs": [
    {
     "data": {
      "text/plain": [
       "array([0, 1, 2, 3, 4])"
      ]
     },
     "execution_count": 93,
     "metadata": {},
     "output_type": "execute_result"
    }
   ],
   "source": [
    "np.arange(5)"
   ]
  },
  {
   "cell_type": "code",
   "execution_count": 95,
   "id": "0b7f3ff4-2a97-421f-9a2f-893bdae05a8f",
   "metadata": {},
   "outputs": [
    {
     "data": {
      "text/plain": [
       "array([1, 2, 3, 4])"
      ]
     },
     "execution_count": 95,
     "metadata": {},
     "output_type": "execute_result"
    }
   ],
   "source": [
    "np.arange(1,5)"
   ]
  },
  {
   "cell_type": "markdown",
   "id": "9060b868-a61a-4355-a2d6-ec868e2c56d8",
   "metadata": {},
   "source": [
    "## Функция linspace()"
   ]
  },
  {
   "cell_type": "code",
   "execution_count": 98,
   "id": "b6e4266e-840d-4b01-835c-c6ae266f9d97",
   "metadata": {},
   "outputs": [
    {
     "data": {
      "text/plain": [
       "array([ 0.,  5., 10., 15., 20., 25.])"
      ]
     },
     "execution_count": 98,
     "metadata": {},
     "output_type": "execute_result"
    }
   ],
   "source": [
    "np.linspace(0,25,6)"
   ]
  },
  {
   "cell_type": "markdown",
   "id": "0fee7276-963d-4f8a-8f6a-4c7fb39822ab",
   "metadata": {},
   "source": [
    "## Функция logspace()"
   ]
  },
  {
   "cell_type": "code",
   "execution_count": 106,
   "id": "f62ed3d9-c0c4-413a-be31-28cdd2ed1aea",
   "metadata": {},
   "outputs": [
    {
     "data": {
      "text/plain": [
       "array([1.e+005, 1.e+025, 1.e+045, 1.e+065, 1.e+085, 1.e+105, 1.e+125])"
      ]
     },
     "execution_count": 106,
     "metadata": {},
     "output_type": "execute_result"
    }
   ],
   "source": [
    "np.logspace(5,125,7)"
   ]
  },
  {
   "cell_type": "code",
   "execution_count": null,
   "id": "6f99ae63-2b59-4178-b193-4c8c8c5799d5",
   "metadata": {},
   "outputs": [],
   "source": []
  },
  {
   "cell_type": "code",
   "execution_count": null,
   "id": "5da3b1a4-b22e-4473-8baf-9eee3c80db47",
   "metadata": {},
   "outputs": [],
   "source": []
  },
  {
   "cell_type": "code",
   "execution_count": null,
   "id": "16b62ee9-fea8-48e0-bad8-cec8061331f0",
   "metadata": {},
   "outputs": [],
   "source": []
  }
 ],
 "metadata": {
  "kernelspec": {
   "display_name": "Python 3 (ipykernel)",
   "language": "python",
   "name": "python3"
  },
  "language_info": {
   "codemirror_mode": {
    "name": "ipython",
    "version": 3
   },
   "file_extension": ".py",
   "mimetype": "text/x-python",
   "name": "python",
   "nbconvert_exporter": "python",
   "pygments_lexer": "ipython3",
   "version": "3.10.12"
  }
 },
 "nbformat": 4,
 "nbformat_minor": 5
}
